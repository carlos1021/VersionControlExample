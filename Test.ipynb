{
 "cells": [
  {
   "cell_type": "markdown",
   "id": "15cfc80c",
   "metadata": {},
   "source": [
    "### Title"
   ]
  },
  {
   "cell_type": "markdown",
   "id": "13ae54fe",
   "metadata": {},
   "source": [
    "This is a notebook on my folder called \"VersionControlExample\"\n",
    "\n",
    "\n",
    "\n",
    "**hello world**"
   ]
  },
  {
   "cell_type": "markdown",
   "id": "54533dd9",
   "metadata": {},
   "source": []
  },
  {
   "cell_type": "code",
   "execution_count": 1,
   "id": "48fcd3b3",
   "metadata": {},
   "outputs": [],
   "source": [
    "def countdown(x):\n",
    "    if x == 0:\n",
    "        print(x)\n",
    "    else:\n",
    "        print(x - 1)\n",
    "        countdown(x - 1)"
   ]
  },
  {
   "cell_type": "code",
   "execution_count": 2,
   "id": "7f5df308",
   "metadata": {},
   "outputs": [
    {
     "name": "stdout",
     "output_type": "stream",
     "text": [
      "9\n",
      "8\n",
      "7\n",
      "6\n",
      "5\n",
      "4\n",
      "3\n",
      "2\n",
      "1\n",
      "0\n",
      "0\n"
     ]
    }
   ],
   "source": [
    "countdown(10)"
   ]
  },
  {
   "cell_type": "code",
   "execution_count": null,
   "id": "675eea2c",
   "metadata": {},
   "outputs": [],
   "source": []
  }
 ],
 "metadata": {
  "kernelspec": {
   "display_name": "Python 3 (ipykernel)",
   "language": "python",
   "name": "python3"
  },
  "language_info": {
   "codemirror_mode": {
    "name": "ipython",
    "version": 3
   },
   "file_extension": ".py",
   "mimetype": "text/x-python",
   "name": "python",
   "nbconvert_exporter": "python",
   "pygments_lexer": "ipython3",
   "version": "3.11.2"
  }
 },
 "nbformat": 4,
 "nbformat_minor": 5
}
