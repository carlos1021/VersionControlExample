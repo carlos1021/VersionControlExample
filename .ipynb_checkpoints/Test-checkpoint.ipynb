{
 "cells": [
  {
   "cell_type": "markdown",
   "id": "55ca4b17",
   "metadata": {},
   "source": [
    "### Title"
   ]
  },
  {
   "cell_type": "markdown",
   "id": "e6ef13c0",
   "metadata": {},
   "source": [
    "This is a notebook on my folder called \"VersionControlExample\"\n",
    "\n",
    "\n",
    "\n",
    "**hello world**"
   ]
  },
  {
   "cell_type": "markdown",
   "id": "c7942418",
   "metadata": {},
   "source": [
    "Rohan is \n",
    "Aayan is\n",
    "Matthew is\n",
    "Ishaan is"
   ]
  },
  {
   "cell_type": "code",
   "execution_count": null,
   "id": "7451ff00",
   "metadata": {},
   "outputs": [],
   "source": []
  }
 ],
 "metadata": {
  "kernelspec": {
   "display_name": "Python 3 (ipykernel)",
   "language": "python",
   "name": "python3"
  },
  "language_info": {
   "codemirror_mode": {
    "name": "ipython",
    "version": 3
   },
   "file_extension": ".py",
   "mimetype": "text/x-python",
   "name": "python",
   "nbconvert_exporter": "python",
   "pygments_lexer": "ipython3",
   "version": "3.11.2"
  }
 },
 "nbformat": 4,
 "nbformat_minor": 5
}
